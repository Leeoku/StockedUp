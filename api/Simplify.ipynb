{
 "cells": [
  {
   "cell_type": "code",
   "execution_count": 65,
   "metadata": {},
   "outputs": [
    {
     "name": "stdout",
     "output_type": "stream",
     "text": [
      "[nltk_data] Downloading package brown to /home/jovyan/nltk_data...\n",
      "[nltk_data]   Unzipping corpora/brown.zip.\n",
      "[nltk_data] Downloading package punkt to /home/jovyan/nltk_data...\n",
      "[nltk_data]   Unzipping tokenizers/punkt.zip.\n",
      "[nltk_data] Downloading package wordnet to /home/jovyan/nltk_data...\n",
      "[nltk_data]   Unzipping corpora/wordnet.zip.\n",
      "[nltk_data] Downloading package averaged_perceptron_tagger to\n",
      "[nltk_data]     /home/jovyan/nltk_data...\n",
      "[nltk_data]   Unzipping taggers/averaged_perceptron_tagger.zip.\n",
      "[nltk_data] Downloading package conll2000 to /home/jovyan/nltk_data...\n",
      "[nltk_data]   Unzipping corpora/conll2000.zip.\n",
      "[nltk_data] Downloading package movie_reviews to\n",
      "[nltk_data]     /home/jovyan/nltk_data...\n",
      "[nltk_data]   Unzipping corpora/movie_reviews.zip.\n",
      "Finished.\n"
     ]
    }
   ],
   "source": [
    "# import sys\n",
    "#!pip3 install https://github.com/explosion/spacy-models/releases/download/en_core_web_sm-2.1.0/en_core_web_sm-2.1.0.tar.gz\n",
    "# !pip install spacy\n",
    "# !python3 -m spacy download en\n",
    "# !pip install -U textblob\n",
    "# !python3 -m textblob.download_corpora"
   ]
  },
  {
   "cell_type": "code",
   "execution_count": 2,
   "metadata": {},
   "outputs": [
    {
     "ename": "ModuleNotFoundError",
     "evalue": "No module named 'spacy'",
     "output_type": "error",
     "traceback": [
      "\u001b[0;31m---------------------------------------------------------------------------\u001b[0m",
      "\u001b[0;31mModuleNotFoundError\u001b[0m                       Traceback (most recent call last)",
      "\u001b[0;32m<ipython-input-2-b30f6773f363>\u001b[0m in \u001b[0;36m<module>\u001b[0;34m\u001b[0m\n\u001b[1;32m      5\u001b[0m \u001b[0;32mfrom\u001b[0m \u001b[0mapi\u001b[0m \u001b[0;32mimport\u001b[0m \u001b[0mocr_key\u001b[0m\u001b[0;34m\u001b[0m\u001b[0;34m\u001b[0m\u001b[0m\n\u001b[1;32m      6\u001b[0m \u001b[0;32mfrom\u001b[0m \u001b[0mcollections\u001b[0m \u001b[0;32mimport\u001b[0m \u001b[0mOrderedDict\u001b[0m\u001b[0;34m\u001b[0m\u001b[0;34m\u001b[0m\u001b[0m\n\u001b[0;32m----> 7\u001b[0;31m \u001b[0;32mfrom\u001b[0m \u001b[0mspacy\u001b[0m\u001b[0;34m.\u001b[0m\u001b[0mmatcher\u001b[0m \u001b[0;32mimport\u001b[0m \u001b[0mPhraseMatcher\u001b[0m\u001b[0;34m\u001b[0m\u001b[0;34m\u001b[0m\u001b[0m\n\u001b[0m\u001b[1;32m      8\u001b[0m \u001b[0;32mimport\u001b[0m \u001b[0mspacy\u001b[0m\u001b[0;34m\u001b[0m\u001b[0;34m\u001b[0m\u001b[0m\n\u001b[1;32m      9\u001b[0m \u001b[0;32mimport\u001b[0m \u001b[0men_core_web_sm\u001b[0m\u001b[0;34m\u001b[0m\u001b[0;34m\u001b[0m\u001b[0m\n",
      "\u001b[0;31mModuleNotFoundError\u001b[0m: No module named 'spacy'"
     ]
    }
   ],
   "source": [
    "import pandas as pd\n",
    "import numpy as np \n",
    "import requests, json\n",
    "import pandas as pd, numpy as np\n",
    "from api import ocr_key\n",
    "from collections import OrderedDict\n",
    "from spacy.matcher import PhraseMatcher\n",
    "import spacy\n",
    "import en_core_web_sm\n",
    "from textblob import TextBlob\n",
    "\n",
    "nlp = spacy.load('en')\n"
   ]
  },
  {
   "cell_type": "code",
   "execution_count": 24,
   "metadata": {},
   "outputs": [
    {
     "name": "stdout",
     "output_type": "stream",
     "text": [
      "7793\n",
      "Unique enteries present in the data : 918\n"
     ]
    }
   ],
   "source": [
    "ks = pd.read_excel('food.xlsx')\n",
    "\n",
    "# ks.head(10)\n",
    "mst_common = []\n",
    "shrt = ks['Long_Desc'].tolist()\n",
    "\n",
    "# for item in shrt:\n",
    "#     item = item.split(',')\n",
    "#     for i in item: \n",
    "#         mst_common[i] = mst_common.get(i, 0) + 1\n",
    "    \n",
    "# sort_items = sorted(mst_common.items(), key=lambda x: x[1], reverse=True)\n",
    "3\n",
    "# print(len(mst_common))\n",
    "\n",
    "# sort_items\n",
    "\n",
    "for item in shrt : \n",
    "    item = item.split(',')\n",
    "    mst_common.append(item[0].lower())\n",
    "    \n",
    "\n",
    "mst_common = set(mst_common)\n",
    "print(\"Unique enteries present in the data :\" ,len(mst_common))\n"
   ]
  },
  {
   "cell_type": "code",
   "execution_count": 7,
   "metadata": {},
   "outputs": [],
   "source": [
    "# def FoodDatabase():\n",
    "#     df = pd.read_excel(\"food.xlsx\", usecols=\"B:C\")\n",
    "#     food_group_map = {\n",
    "#         100: \"dairy\",\n",
    "#         1800: \"grain\",\n",
    "#         2000: \"grain\",\n",
    "#         500: \"meat\",\n",
    "#         700: \"meat\",\n",
    "#         1000: \"meat\",\n",
    "#         1300: \"meat\",\n",
    "#         1500: \"meat\",\n",
    "#         1700: \"meat\",\n",
    "#         900: \"fruit_veg\",\n",
    "#         1100: \"fruit_veg\",\n",
    "#         1600: \"fruit_veg\",\n",
    "#     }\n",
    "#     df[\"Food Group\"] = df[\"FdGrp_Cd\"].map(food_group_map)\n",
    "#     df_split = df[\"Long_Desc\"].str.split(\",\", n=1, expand=True)\n",
    "#     df_split.columns = [\"Food Name\", \"Food Name Detail\"]\n",
    "#     df = pd.concat([df, df_split], axis=1)\n",
    "#     df = df.groupby(\"Food Group\")[\"Food Name\"].unique()\n",
    "#     dairy = df[\"dairy\"]\n",
    "#     grain = df[\"grain\"]\n",
    "#     meat = df[\"meat\"]\n",
    "#     fruit_veg = df[\"fruit_veg\"]\n",
    "#     print(df)\n",
    "    \n",
    "#     return dairy, grain, meat, fruit_veg"
   ]
  },
  {
   "cell_type": "code",
   "execution_count": 8,
   "metadata": {},
   "outputs": [],
   "source": [
    "# df = pd.read_excel(\"food.xlsx\", usecols=\"B:C\")\n",
    "# print(df.head())\n",
    "\n",
    "# food_group_map = {\n",
    "#     100: \"dairy\",\n",
    "#     1800: \"grain\",\n",
    "#     2000: \"grain\",\n",
    "#     500: \"meat\",\n",
    "#     700: \"meat\",\n",
    "#     1000: \"meat\",\n",
    "#     1300: \"meat\",\n",
    "#     1500: \"meat\",\n",
    "#     1700: \"meat\",\n",
    "#     900: \"fruit_veg\",\n",
    "#     1100: \"fruit_veg\",\n",
    "#     1600: \"fruit_veg\",\n",
    "# }\n",
    "\n",
    "# df[\"Food Group\"] = df[\"FdGrp_Cd\"].map(food_group_map)\n",
    "\n",
    "# df_split = df[\"Long_Desc\"].str.split(\",\", n=1, expand=True)\n",
    "# df_split.columns = [\"Food Name\", \"Food Name Detail\"]\n",
    "\n",
    "\n",
    "# df = pd.concat([df, df_split], axis=1)\n",
    "\n",
    "# display(df)\n",
    "# df = df.groupby(\"Food Group\")[\"Food Name\"].unique()\n",
    "# dairy = df[\"dairy\"]\n",
    "# grain = df[\"grain\"]\n",
    "# meat = df[\"meat\"]\n",
    "# fruit_veg = df[\"fruit_veg\"]\n",
    "\n",
    "\n",
    "# print(df)\n",
    "\n"
   ]
  },
  {
   "cell_type": "markdown",
   "metadata": {},
   "source": [
    "#### OCR SPACE IMPORTING "
   ]
  },
  {
   "cell_type": "code",
   "execution_count": 2,
   "metadata": {},
   "outputs": [
    {
     "name": "stdout",
     "output_type": "stream",
     "text": [
      "Food Group\n",
      "dairy        [Butter, Butter oil, Cheese, Cheese food, Chee...\n",
      "fruit_veg    [Acerola, Acerola juice, Apples, Apple juice, ...\n",
      "grain        [Bagels, Biscuits, Bread, Cake, Cookies, Puff ...\n",
      "meat         [Chicken, Canada Goose, Duck, Goose, Guinea he...\n",
      "Name: Food Name, dtype: object\n"
     ]
    }
   ],
   "source": [
    "def ocr_space_file(\n",
    "    filename, overlay=False, api_key=ocr_key, language=\"eng\", istable=True, scale=True\n",
    "):\n",
    "    \"\"\" OCR.space API request with local file.\n",
    "        Python3.5 - not tested on 2.7\n",
    "\n",
    "    :param filename: Your file path & name.\n",
    "    :param overlay: Is OCR.space overlay required in your response.\n",
    "                    Defaults to False.\n",
    "    :param api_key: OCR.space API key.\n",
    "                    Defaults to 'helloworld'.\n",
    "    :param language: Language code to be used in OCR.\n",
    "                    List of available language codes can be found on https://ocr.space/OCRAPI\n",
    "                    Defaults to 'en'.\n",
    "    :return: Result in JSON format.\n",
    "    :param istable: parses output as a table\n",
    "    \"\"\"\n",
    "\n",
    "    payload = {\n",
    "        \"isOverlayRequired\": overlay,\n",
    "        \"apikey\": api_key,\n",
    "        \"language\": language,\n",
    "        \"istable\": istable,\n",
    "    }\n",
    "    with open(filename, \"rb\") as f:\n",
    "        r = requests.post(\n",
    "            \"https://api.ocr.space/parse/image\", files={filename: f}, data=payload,\n",
    "        )\n",
    "    return r.content.decode()\n",
    "  \n",
    "def ocr_space_url(\n",
    "    url, overlay=False, api_key=ocr_key, language=\"eng\", isTable=True, scale=True\n",
    "):\n",
    "    \"\"\" OCR.space API request with remote file.\n",
    "        Python3.5 - not tested on 2.7\n",
    "\n",
    "    :param url: Image url.\n",
    "    :param overlay: Is OCR.space overlay required in your response.\n",
    "                    Defaults to False.\n",
    "    :param api_key: OCR.space API key.\n",
    "                    Defaults to 'helloworld'.\n",
    "    :param language: Language code to be used in OCR.\n",
    "                    List of available language codes can be found on https://ocr.space/OCRAPI\n",
    "                    Defaults to 'en'.\n",
    "    :return: Result in JSON format.\n",
    "    :param isTable: parses output as a table\n",
    "    \"\"\"\n",
    "\n",
    "    payload = {\n",
    "        \"url\": url,\n",
    "        \"isOverlayRequired\": overlay,\n",
    "        \"apikey\": api_key,\n",
    "        \"language\": language,\n",
    "        \"isTable\": isTable,\n",
    "    }\n",
    "    r = requests.post(\"https://api.ocr.space/parse/image\", data=payload,)\n",
    "    # return r.content.decode()\n",
    "\n",
    "    # Change this return in source code to return JSON object, not string\n",
    "    return r.json()\n",
    "\n",
    "\n",
    "# API response and obtaing \"LineText\"\n",
    "def parse():\n",
    "    data = ocr_space_url(\"https://ocr.space/Content/Images/receipt-ocr-original.jpg\")\n",
    "    lines = data.get(\"ParsedResults\")[0][\"TextOverlay\"][\"Lines\"]\n",
    "    words = [line.get(\"LineText\").lower() for line in lines]\n",
    "    return words\n",
    "\n",
    "if __name__ == \"__main__\":\n",
    "    parse()\n",
    "    FoodDatabase()"
   ]
  },
  {
   "cell_type": "markdown",
   "metadata": {},
   "source": [
    "### Building the FoodDB "
   ]
  },
  {
   "cell_type": "code",
   "execution_count": 53,
   "metadata": {},
   "outputs": [],
   "source": [
    "# Query the excel sheet and obtain the target food groups. Note not food group codes used\n",
    "def food_database():\n",
    "    df = pd.read_excel(\"food.xlsx\", usecols=\"B:C\")\n",
    "    food_group_map = {\n",
    "        100: \"dairy\",\n",
    "        1800: \"grain\",\n",
    "        2000: \"grain\",\n",
    "        500: \"meat\",\n",
    "        700: \"meat\",\n",
    "        1000: \"meat\",\n",
    "        1300: \"meat\",\n",
    "        1500: \"meat\",\n",
    "        1700: \"meat\",\n",
    "        900: \"fruit_veg\",\n",
    "        1100: \"fruit_veg\",\n",
    "        1600: \"fruit_veg\",\n",
    "    }\n",
    "    df[\"Food Group\"] = df[\"FdGrp_Cd\"].map(food_group_map)\n",
    "    df_split = df[\"Long_Desc\"].str.split(\",\", n=1, expand=True)\n",
    "    df_split.columns = [\"Food Name\", \"Food Name Detail\"]\n",
    "    df = pd.concat([df, df_split], axis=1)\n",
    "    df = df.groupby(\"Food Group\")[\"Food Name\"].unique()\n",
    "    dairy = df[\"dairy\"]\n",
    "    grain = df[\"grain\"]\n",
    "    meat = df[\"meat\"]\n",
    "    fruit_veg = df[\"fruit_veg\"]\n",
    "    food_groups = np.concatenate((dairy, meat, grain, fruit_veg))\n",
    "    # print(type(food_groups))\n",
    "    #return dairy, grain, meat, fruit_veg\n",
    "    return food_groups\n"
   ]
  },
  {
   "cell_type": "code",
   "execution_count": 54,
   "metadata": {},
   "outputs": [],
   "source": [
    "def float_or_int(string):\n",
    "    if string.isdigit():\n",
    "        return True\n",
    "    elif string.replace('.','',1).isdigit() and string.count('.') < 2:\n",
    "        return True\n",
    "    else:\n",
    "        return False "
   ]
  },
  {
   "cell_type": "code",
   "execution_count": 86,
   "metadata": {},
   "outputs": [],
   "source": [
    "def filter_words(all_words):\n",
    "    text_doc = nlp(all_words)\n",
    "    \n",
    "    # removing stop words or punctuation \n",
    "    text_doc2 = [] \n",
    "    for token in text_doc : \n",
    "        if(not token.is_stop and len(token.text) > 2 and not float_or_int(token.text)): \n",
    "#             print(\"token length == \",len(token), \" token text len ==\", len(token.text), \" token text -\", token.text)\n",
    "            text_doc2.append(token.lemma_)\n",
    "  \n",
    "    words_string = ' '.join(text_doc2)\n",
    "    \n",
    "    text_blob_object = TextBlob(words_string)\n",
    "    \n",
    "    singular_string = ' '.join(text_blob_object.words.singularize())\n",
    "    \n",
    "#     plural_string = ' '.join(text_blob_object.words.pluralize())\n",
    "    \n",
    "    return(singular_string,words_string)\n",
    "    "
   ]
  },
  {
   "cell_type": "code",
   "execution_count": 98,
   "metadata": {},
   "outputs": [],
   "source": [
    "def patter_match():\n",
    "\n",
    "    \n",
    "    nlp = spacy.load('en')\n",
    "    matcher = PhraseMatcher(nlp.vocab, attr = 'LOWER')\n",
    "    \n",
    "    parsed_words = parse()\n",
    "'''\n",
    "    parsed_words = ['walmart', 'save money. live better.', \n",
    "    '( 330 ) 339 -', '3991', 'manager diana earnest',\n",
    "     '231 bluebell dr sw', 'new philadelphia oh 44663',\n",
    "      '02115 009044 44', '01301', 'pet toy', 'floppy puppy', \n",
    "      'sssupreme s', 'z . 5 squeak', 'munchy dmbel', 'dog treat', \n",
    "      'ped pch 1', 'ped pch 1', 'coupon 23100', '1--inymd smores',\n",
    "       'french drsng', '3 oranges', 'baby carrots', 'collards',\n",
    "        'calzone', 'mm rvw mnt', 'stkobrlplabl', 'stkobrlplabl', \n",
    "        'stko sunflwr', 'stko sunflwr', 'stko sunflwr',\n",
    "        'stko sunflwr', 'bling beads', 'great value', \n",
    "        'lipton', 'dry dog', 'tax', 'us debit', '004747571658', \n",
    "        '004747514846', '070060332153', '084699803238', '068113108796',\n",
    "         '007119013654', '002310011802', '002310011802', '052310037000', '088491226837', '004132100655', '001466835001', '003338366602', '1', '000000004614k1', '005208362080 f', '003399105848', '001558679414', '001558679414', '001558679410', '001558679410', '001558679410', '001558679410', '076594060699', '007874203191 f', '001200011224 f', '002310011035', '1', 'subtotal', '6.750', 'total', 'visa tend', '5', '12 .', '9166', '1.97', '1.97', '4.97', '5.92', '3.77', '2.92', '0.50', '0.50', '1.00-0', '3.98', '1.98', '.47', '1.48', '1.24', '2.50', '19.77', '1.97', '1.97', '0.97', '0.97', '0.97', '0.97', '0.97', '9.97', '4.48', '44', '93.62', '4.59', '98.21', '98.21', '1', 'x', 'x', 'x', 'x', 'x', 'x', 'x', 'x', 'o', 'o', 'o', 'x', 'x', 'x', 'x', 'x', 'x', 'x', 'x', 'o', 'x', 'x', 'o', 'approval # 572868', 'ref # 720900544961', 'trans id', '387209239650894', 'validation - 87hs', 'payment service', 'aid a0000000980840', 'tc 51319ca81dcz2bc7', 'terminal # sc010764', '*signature ver ified', '07/28/17', '02 : 39 : 48', 'change due', '# items sold 25', '0443 0223 1059 8001 5140', 'low'\n",
    "    , 'ices you can trust .', 'every', '0.00', 'day .', '07/28/17', \n",
    "    '02 : 39 : 48']\n",
    "''' \n",
    "    \n",
    "    words_string = ' '.join(parsed_words)\n",
    "    \n",
    "    (single,plural) = filter_words(words_string)\n",
    "    \n",
    "    \n",
    "    text_doc_singular = nlp(single)\n",
    "    text_doc_plural   = nlp(plural)\n",
    "\n",
    "\n",
    "    food_groups = food_database()\n",
    "\n",
    "    # Building the intial list of keywords we want to match the parsed items aganist\n",
    "    patterns = [nlp(text) for text in food_groups]\n",
    "    matcher.add(\"Food Matcher\", None, *patterns)    \n",
    "    matches = matcher(text_doc_singular)\n",
    "    \n",
    "    results = []\n",
    "    # printing all th matches, TerminologyList is the name of the our patter matcher\n",
    "    for i in range(len(matches)):    \n",
    "        match_id, start, end = matches [0]\n",
    "#         results.append((nlp.vocab.strings[match_id], text_doc_singular[start:end]))\n",
    "        results.append(text_doc_singular[start:end])\n",
    "\n",
    "    matches = matcher(text_doc_plural)\n",
    "    \n",
    "\n",
    "    for i in range(len(matches)):    \n",
    "        match_id, start, end = matches [0]\n",
    "#         results.append((nlp.vocab.strings[match_id],text_doc_plural[start:end]))\n",
    "        results.append(text_doc_plural[start:end])\n",
    "    \n",
    "    results = dict((i, results.count(i)) for i in results)\n",
    "    \n",
    "    return results"
   ]
  },
  {
   "cell_type": "code",
   "execution_count": 99,
   "metadata": {
    "scrolled": true
   },
   "outputs": [
    {
     "name": "stdout",
     "output_type": "stream",
     "text": [
      "************\n",
      "walmart save money live well manager diana earnest bluebell new philadelphium pet toy floppy puppy sssupreme squeak munchy dmbel dog treat pe pch ped pch coupon inymd smore french drsng orange baby carrot collard calzone rvw mnt stkobrlplabl stkobrlplabl stko sunflwr stko sunflwr stko sunflwr stko sunflwr bling bead great value lipton dry dog tax debit 000000004614k1 subtotal total visa tend approval ref tran validation 87h payment service aid a0000000980840 51319ca81dcz2bc7 terminal sc010764 signature ver ifie 07/28/17 change item sell low ice trust day 07/28/17\n",
      "************\n",
      "walmart save money live well manager diana earnest bluebell new philadelphia pet toy floppy puppy sssupreme squeak munchy dmbel dog treat pe pch ped pch coupon -inymd smore french drsng oranges baby carrots collards calzone rvw mnt stkobrlplabl stkobrlplabl stko sunflwr stko sunflwr stko sunflwr stko sunflwr bling beads great value lipton dry dog tax debit 000000004614k1 subtotal total visa tend approval ref trans validation 87hs payment service aid a0000000980840 51319ca81dcz2bc7 terminal sc010764 signature ver ifie 07/28/17 change item sell low ice trust day 07/28/17\n",
      "************\n",
      "{carrot: 1, oranges: 3}\n"
     ]
    }
   ],
   "source": [
    "patter_match()"
   ]
  },
  {
   "cell_type": "code",
   "execution_count": 2,
   "metadata": {},
   "outputs": [
    {
     "data": {
      "text/plain": [
       "b\"Siteid\\tArea\\t\\tDescription\\t\\t\\tLat\\t\\tLong\\t\\tElev (ft)\\tDescription\\t\\t\\t\\t\\t\\t\\t\\t\\t\\t\\n150000\\tMissoula\\tLookout Pass\\t\\t\\t47.45357298\\t-115.6950595\\t4540\\t\\tLookout Pass I-90 MP 0.2\\t\\t\\t\\t\\t\\t\\t\\t\\t\\t\\n150002\\tMissoula\\tBearmouth\\t\\t\\t46.71854246\\t-113.2953417\\t3901\\t\\tBearmouth I-90 MP 145.8\\t\\t\\t\\t\\t\\t\\t\\t\\t\\t\\n150003\\tMissoula\\tTrout Creek\\t\\t\\t47.824111\\t-115.572\\t2384\\t\\tTrout Creek Hwy 200 MP 30.9\\t\\t\\t\\t\\t\\t\\t\\t\\t\\t\\n150004\\tMissoula\\tGreenough Hill\\t\\t\\t46.90280055\\t-113.422989\\t4070\\t\\tGreenough Hill MT200 MP 22.1\\t\\t\\t\\t\\t\\t\\t\\t\\t\\t\\n150005\\tMissoula\\tNinemile\\t\\t\\t47.02299397\\t-114.3886779\\t3170\\t\\tNinemile I-90 MP 81.8\\t\\t\\t\\t\\t\\t\\t\\t\\t\\t\\n263000\\tBillings\\tYellowstone River Bridge\\t45.79376126\\t-108.4679891\\t3194\\t\\tYellowstone River Bridge I-90 MP 452.3\\t\\t\\t\\t\\t\\t\\t\\t\\t\\t\\n263001\\tBillings\\tReedpoint\\t\\t\\t45.71005632\\t-109.5783019\\t3890\\t\\tReed Point I-90 MP 390.8\\t\\t\\t\\t\\t\\t\\t\\t\\t\\t\\n263002\\tBillings\\tRoscoe Hill\\t\\t\\t45.33857742\\t-109.4936168\\t5337\\t\\tRoscoe Hill MT78 MP 19.0\\t\\t\\t\\t\\t\\t\\t\\t\\t\\t\\n263003\\tBillings\\tArrow Creek Hill\\t\\t45.77999929\\t-108.163406\\t3956\\t\\tArrow Creek Hill I-90 MP 468.6\\t\\t\\t\\t\\t\\t\\t\\t\\t\\t\\n263004\\tBillings\\tAberdeen Hill\\t\\t\\t45.0283938\\t-107.3172887\\t4101\\t\\tAberdeen Hill I-90 MP 552.3\\t\\t\\t\\t\\t\\t\\t\\t\\t\\t\\n263005\\tBillings\\tHysham Hills\\t\\t\\t46.16491617\\t-107.3092735\\t3549\\t\\tHysham Hills I-94 MP 60.0\\t\\t\\t\\t\\t\\t\\t\\t\\t\\t\\n267001\\tButte\\t\\tMonida Pass\\t\\t\\t44.55766953\\t-112.3136955\\t6824\\t\\tMonida Pass I-15 MP 0.3\\t\\t\\t\\t\\t\\t\\t\\t\\t\\t\\n267002\\tButte\\t\\tMacDonald Pass\\t\\t\\t46.56147997\\t-112.3093051\\t6320\\t\\tMacDonald Pass US12 MP 27.9\\t\\t\\t\\t\\t\\t\\t\\t\\t\\t\\n267003\\tButte\\t\\tBoulder Hill\\t\\t\\t46.32329873\\t-112.0689089\\t5600\\t\\tBoulder Hill I-15 MP 170.9\\t\\t\\t\\t\\t\\t\\t\\t\\t\\t\\n267004\\tButte\\t\\tGarrison\\t\\t\\t46.52361378\\t-112.8084327\\t4340\\t\\tGarrison I-90 MP 174.4\\t\\t\\t\\t\\t\\t\\t\\t\\t\\t\\n267005\\tButte\\t\\tBig Hole Pass\\t\\t\\t45.31544733\\t-113.3097377\\t7400\\t\\tBig Hole Pass S-278 MP 32\\t\\t\\t\\t\\t\\t\\t\\t\\t\\t\\n267006\\tButte\\t\\tElk Park\\t\\t\\t46.13589\\t-112.39799\\t6293\\t\\tElk Park I-15 Frontage MP 141.1\\t\\t\\t\\t\\t\\t\\t\\t\\t\\t\\n267007\\tButte\\t\\tAvon - North\\t\\t\\t46.69679\\t-112.65944\\t5085\\t\\tAvon North - Hwy 141 MP 8.1\\t\\t\\t\\t\\t\\t\\t\\t\\t\\t\\n267008\\tButte\\t\\tHomestake Pass\\t\\t\\t45.55088\\t-112.24447\\t6385\\t\\tHomestake Pass I-90 MP 233\\t\\t\\t\\t\\t\\t\\t\\t\\t\\t\\n267009\\tButte\\t\\tGeorgetown Lake\\t\\t\\t46.190806\\t-113.265306\\t6339\\t\\tGeorgetown Lake Hwy 1 MP 25.4\\t\\t\\t\\t\\t\\t\\t\\t\\t\\t\\n268000\\tLewistown\\tEast of Denton\\t\\t\\t47.30022671\\t-109.8511746\\t3557\\t\\tEast of Denton MT81 MP 17\\t\\t\\t\\t\\t\\t\\t\\t\\t\\t\\n268001\\tLewistown\\tJudith Gap\\t\\t\\t46.68765404\\t-109.7502125\\t4677\\t\\tJudith Gap US-191 MP 18.6\\t\\t\\t\\t\\t\\t\\t\\t\\t\\t\\n268003\\tLewistown\\tBull Mountain Divide\\t\\t46.24743675\\t-108.4612106\\t3898\\t\\tBull Mountain US87 MP 33.3\\t\\t\\t\\t\\t\\t\\t\\t\\t\\t\\n268004\\tLewistown\\tHays Site\\t\\t\\t47.91928257\\t-108.7261054\\t3697\\t\\tHays Site MT66 MP 10.5\\t\\t\\t\\t\\t\\t\\t\\t\\t\\t\\n268005\\tLewistown\\tLewistown Divide\\t\\t47.06180057\\t-109.1844339\\t4622\\t\\tLewistown Divide MT200 MP 90.3\\t\\t\\t\\t\\t\\t\\t\\t\\t\\t\\n268006\\tLewistown\\tGeyser\\t\\t\\t\\t47.242694\\t-110.469556\\t4138\\t\\tGeyser US87 MP 23\\t\\t\\t\\t\\t\\t\\t\\t\\t\\t\\n269000\\tWolf Point\\tMalta South\\t\\t\\t47.96112732\\t-108.3055539\\t3122\\t\\tMalta South US191 MP 122.5\\t\\t\\t\\t\\t\\t\\t\\t\\t\\t\\n269001\\tWolf Point\\tMcDonald's\\t\\t\\t48.42732302\\t-105.4423371\\t2401\\t\\tMcDonalds MT13 MP 25.5\\t\\t\\t\\t\\t\\t\\t\\t\\t\\t\\n269002\\tWolf Point\\tNavajo\\t\\t\\t\\t48.8184514\\t-104.9971444\\t2570\\t\\tNavajo MT-5 MP 16.7\\t\\t\\t\\t\\t\\t\\t\\t\\t\\t\\n269003\\tWolf Point\\tComertown Turn-off\\t\\t48.80999661\\t-104.2528984\\t2099\\t\\tComertown Turn-Off MT5 MP 13.4\\t\\t\\t\\t\\t\\t\\t\\t\\t\\t\\n269004\\tWolf Point\\tUS2 @Stateline\\t\\t\\t48.13764491\\t-104.0468714\\t2099\\t\\tUS 2 @ Stateline\\t\\t\\t\\t\\t\\t\\t\\t\\t\\t\\n269005\\tWolf Point\\tSaco\\t\\t\\t\\t48.451389\\t-107.301667\\t2177\\t\\tSaco US2 MP 502.5\\t\\t\\t\\t\\t\\t\\t\\t\\t\\t\\n301000\\tGreat Falls\\tMonarch Canyon\\t\\t\\t47.14289771\\t-110.8230922\\t5218\\t\\tMonarch Canyon US89 MP 53.5\\t\\t\\t\\t\\t\\t\\t\\t\\t\\t\\n301001\\tGreat Falls\\tPendroy\\t\\t\\t\\t48.07321688\\t-112.3341821\\t4199\\t\\tPendroy US89 MP 62.6\\t\\t\\t\\t\\t\\t\\t\\t\\t\\t\\n301002\\tGreat Falls\\tBowmans\\t\\t\\t\\t47.29219699\\t-112.151831\\t4301\\t\\tBowmans MT200 MP110.4\\t\\t\\t\\t\\t\\t\\t\\t\\t\\t\\n301003\\tGreat Falls\\tHelmville\\t\\t\\t46.96826155\\t-112.9748725\\t4199\\t\\tHelmville MT200 MP 53.3\\t\\t\\t\\t\\t\\t\\t\\t\\t\\t\\n301004\\tGreat Falls\\tGary Cooper Bridge\\t\\t47.13947959\\t-111.8590804\\t3500\\t\\tGary Cooper Bridge I-15 MP 242\\t\\t\\t\\t\\t\\t\\t\\t\\t\\t\\n301005\\tGreat Falls\\tSieben\\t\\t\\t\\t46.88748267\\t-112.1111196\\t4040\\t\\tSieben I-15 MP 216\\t\\t\\t\\t\\t\\t\\t\\t\\t\\t\\n301006\\tGreat Falls\\tPrickley Pear\\t\\t\\t46.91392183\\t-112.1167054\\t3943\\t\\tPrickley Pear I-15 MP 218.6 Elev 3943\\t\\t\\t\\t\\t\\t\\t\\t\\t\\t\\n301007\\tGreat Falls\\tRoger's Pass\\t\\t\\t47.0877\\t\\t-112.372317\\t5406\\t\\tRogers Pass MT200 MP 90.8\\t\\t\\t\\t\\t\\t\\t\\t\\t\\t\\n302000\\tGlendive\\tLufborough Hill\\t\\t\\t47.07813042\\t-107.5720063\\t2998\\t\\tLufborough Hill MT200 MP 175.3\\t\\t\\t\\t\\t\\t\\t\\t\\t\\t\\n302001\\tGlendive\\tCow Creek\\t\\t\\t47.68836679\\t-105.4918552\\t2500\\t\\tCow Creek MT13 MP 19.9 Elev 2500\\t\\t\\t\\t\\t\\t\\t\\t\\t\\t\\n302002\\tGlendive\\tLindsay Divide\\t\\t\\t47.28293547\\t-105.2938704\\t3198\\t\\tLindsay Divide MT200 MP 296.5 Elev 3198\\t\\t\\t\\t\\t\\t\\t\\t\\t\\t\\n302003\\tGlendive\\tBeaver Hill\\t\\t\\t47.02197621\\t-104.3300043\\t2551\\t\\tBeaver Hill I-94 MP 234.8\\t\\t\\t\\t\\t\\t\\t\\t\\t\\t\\n302004\\tGlendive\\tSioux Pass\\t\\t\\t47.91972733\\t-104.3261866\\t2480\\t\\tSioux Pass MT16 MP 21 Elev 2480\\t\\t\\t\\t\\t\\t\\t\\t\\t\\t\\n563000\\tMiles City\\tLame Deer Divide\\t\\t45.62885913\\t-106.5112452\\t4327\\t\\tLame Deer Divide US212 MP 50.1\\t\\t\\t\\t\\t\\t\\t\\t\\t\\t\\n563001\\tMiles City\\tSweeney Creek\\t\\t\\t46.26670992\\t-106.3078849\\t2598\\t\\tSweeney Creek I-94 MP 112.6\\t\\t\\t\\t\\t\\t\\t\\t\\t\\t\\n563002\\tMiles City\\tRock Springs\\t\\t\\t46.83370217\\t-106.2713308\\t2998\\t\\tRock Springs MT59 MP36.5\\t\\t\\t\\t\\t\\t\\t\\t\\t\\t\\n563003\\tMiles City\\tBaker\\t\\t\\t\\t46.08358891\\t-104.4355227\\t3500\\t\\tBaker MT7 MP 14.2\\t\\t\\t\\t\\t\\t\\t\\t\\t\\t\\n563004\\tMiles City\\tAlzada\\t\\t\\t\\t45.00274858\\t-104.3736231\\t4327\\t\\tAlzada US212 MP 139.4\\t\\t\\t\\t\\t\\t\\t\\t\\t\\t\\n563005\\tMiles City\\tGovernment Hill\\t\\t\\t46.41\\t\\t-105.67\\t\\t3165\\t\\tGovernment Hill Hwy 12 MP 14.2\\t\\t\\t\\t\\t\\t\\t\\t\\t\\t\\n563006\\tMiles City\\tIngomar\\t\\t\\t\\t46.583528\\t-107.376\\t3020\\t\\tIngomar US12 MP 230\\t\\t\\t\\t\\t\\t\\t\\t\\t\\t\\n563007\\tMiles City\\tEkalaka\\t\\t\\t\\t45.312\\t\\t-104.46657\\t3687\\t\\tEkalaka S323 MP 46.8\\t\\t\\t\\t\\t\\t\\t\\t\\t\\t\\n563008\\tMiles City\\tBiddle\\t\\t\\t\\t45.012976\\t-105.376985\\t3418\\t\\tBiddle Hwy 59 MP 0.9\\t\\t\\t\\t\\t\\t\\t\\t\\t\\t\\n564000\\tBozeman\\t\\tRaynolds Pass\\t\\t\\t44.72814115\\t-111.4701211\\t6778\\t\\tRaynolds Pass MT87 MP 1.2\\t\\t\\t\\t\\t\\t\\t\\t\\t\\t\\n564001\\tBozeman\\t\\tKarst\\t\\t\\t\\t45.34534328\\t-111.1726064\\t5698\\t\\tKarst US191 MP 55.3\\t\\t\\t\\t\\t\\t\\t\\t\\t\\t\\n564002\\tBozeman\\t\\tBozeman Pass\\t\\t\\t45.66681641\\t-110.8039548\\t5748\\t\\tBozeman Pass I-90 MP 321.8\\t\\t\\t\\t\\t\\t\\t\\t\\t\\t\\n564003\\tBozeman\\t\\tEast Livingston\\t\\t\\t45.6855379\\t-110.5044463\\t4555\\t\\tEast Livingston I-90 MP 337.7\\t\\t\\t\\t\\t\\t\\t\\t\\t\\t\\n564004\\tBozeman\\t\\tNorris Hill\\t\\t\\t45.49959623\\t-111.6961793\\t5400\\t\\tNorris Hill US287 MP 60\\t\\t\\t\\t\\t\\t\\t\\t\\t\\t\\n564005\\tBozeman\\t\\tDeep Creek\\t\\t\\t46.35146\\t-111.06681\\t5870\\t\\tDeep Creek US-12 MP 23.5\\t\\t\\t\\t\\t\\t\\t\\t\\t\\t\\n564006\\tBozeman\\t\\tLivingston Wind\\t\\t\\t45.39201\\t-111.02662\\t5401\\t\\tLivingston Wind - I-90 MP 331.7 Elev 5401\\t\\t\\t\\t\\t\\t\\t\\t\\t\\t\\n628000\\tKalispell\\tEssex\\t\\t\\t\\t48.28175578\\t-113.6065696\\t3875\\t\\tEssex US2 MP 179.9\\t\\t\\t\\t\\t\\t\\t\\t\\t\\t\\n628001\\tKalispell\\tDickey Lake\\t\\t\\t48.69452866\\t-114.7843654\\t3487\\t\\tDickey Lake US93 MP160.2\\t\\t\\t\\t\\t\\t\\t\\t\\t\\t\\n628002\\tKalispell\\tFlathead River\\t\\t\\t48.21907646\\t-114.2379324\\t2851\\t\\tFlathead River MT 35 MP49\\t\\t\\t\\t\\t\\t\\t\\t\\t\\t\\n628003\\tKalispell\\tYaak Hill\\t\\t\\t48.58339724\\t-115.9840606\\t2201\\t\\tYaak Hill US2 MP 4.8 Elev 2201\\t\\t\\t\\t\\t\\t\\t\\t\\t\\t\\n628004\\tKalispell\\tCrystal Creek\\t\\t\\t48.11760012\\t-115.4200364\\t3030\\t\\tCrystal Creek US2 MP 53.1\\t\\t\\t\\t\\t\\t\\t\\t\\t\\t\\n628005\\tKalispell\\tSwan Lake South\\t\\t\\t47.59102693\\t-113.7557434\\t3567\\t\\tSwan Lake South MT83 MP 47\\t\\t\\t\\t\\t\\t\\t\\t\\t\\t\\n629000\\tHavre\\t\\tInverness\\t\\t\\t48.55321455\\t-110.6482198\\t3300\\t\\tInverness US2 MP 337.6\\t\\t\\t\\t\\t\\t\\t\\t\\t\\t\\n629001\\tHavre\\t\\tSweetgrass\\t\\t\\t48.96016563\\t-111.9407131\\t3690\\t\\tSweet Grass I-15 MP 397.3\\t\\t\\t\\t\\t\\t\\t\\t\\t\\t\\n629002\\tHavre\\t\\tTwo Medicine Bridge\\t\\t48.45265138\\t-113.1950716\\t4920\\t\\tTwo Medicine Bridge US2 MP 210.7\\t\\t\\t\\t\\t\\t\\t\\t\\t\\t\\n629003\\tHavre\\t\\tLoma\\t\\t\\t\\t47.95102703\\t-110.5047682\\t2557\\t\\tLoma US87 MP 53.1\\t\\t\\t\\t\\t\\t\\t\\t\\t\\t\\n629004\\tHavre\\t\\tSunburst\\t\\t\\t48.88015\\t-111.89871\\t3401\\t\\tSunburst I-15 MP 389\\t\\t\\t\\t\\t\\t\\t\\t\\t\\t\\n629005\\tHavre\\t\\tBrowning\\t\\t\\t48.5345\\t\\t-112.9808\\t4419\\t\\tBrowning US2/US89 MP 223.1\\t\\t\\t\\t\\t\\t\\t\\t\\t\\t\\n\\t\\t\\t\\t\\t\\t\\t\\t\\t\\t\\t\\t\\t\\t\\t\\t\\t\\n\\t\\t\\t\\t\\t\\t\\t\\t\\t\\t\\t\\t\\t\\t\\t\\t\\t\\n\\t\\t\\t\\t\\t\\t\\t\\t\\t\\t\\t\\t\\t\\t\\t\\t\\t\\n\\t\\t\\t\\t\\t\\t\\t\\t\\t\\t\\t\\t\\t\\t\\t\\t\\t\\n\\t\\t\\t\\t\\t\\t\\t\\t\\t\\t\\t\\t\\t\\t\\t\\t\\t\\n\\t\\t\\t\\t\\t\\t\\t\\t\\t\\t\\t\\t\\t\\t\\t\\t\\t\\n\\t\\t\\t\\t\\t\\t\\t\\t\\t\\t\\t\\t\\t\\t\\t\\t\\t\\n\\t\\t\\t\\t\\t\\t\\t\\t\\t\\t\\t\\t\\t\\t\\t\\t\\t\\n\\t\\t\\t\\t\\t\\t\\t\\t\\t\\t\\t\\t\\t\\t\\t\\t\\t\\n\\t\\t\\t\\t\\t\\t\\t\\t\\t\\t\\t\\t\\t\\t\\t\\t\\t\\n\\t\\t\\t\\t\\t\\t\\t\\t\\t\\t\\t\\t\\t\\t\\t\\t\\t\\n\\t\\t\\t\\t\\t\\t\\t\\t\\t\\t\\t\\t\\t\\t\\t\\t\\t\\n\\t\\t\\t\\t\\t\\t\\t\\t\\t\\t\\t\\t\\t\\t\\t\\t\\t\\n\\t\\t\\t\\t\\t\\t\\t\\t\\t\\t\\t\\t\\t\\t\\t\\t\\t\\n\\t\\t\\t\\t\\t\\t\\t\\t\\t\\t\\t\\t\\t\\t\\t\\t\\t\\n\\t\\t\\t\\t\\t\\t\\t\\t\\t\\t\\t\\t\\t\\t\\t\\t\\t\\n\\t\\t\\t\\t\\t\\t\\t\\t\\t\\t\\t\\t\\t\\t\\t\\t\\t\\n\\t\\t\\t\\t\\t\\t\\t\\t\\t\\t\\t\\t\\t\\t\\t\\t\\t\\n\\t\\t\\t\\t\\t\\t\\t\\t\\t\\t\\t\\t\\t\\t\\t\\t\\t\\n\\t\\t\\t\\t\\t\\t\\t\\t\\t\\t\\t\\t\\t\\t\\t\\t\\t\\n\\t\\t\\t\\t\\t\\t\\t\\t\\t\\t\\t\\t\\t\\t\\t\\t\\t\\n\\t\\t\\t\\t\\t\\t\\t\\t\\t\\t\\t\\t\\t\\t\\t\\t\\t\\n\\t\\t\\t\\t\\t\\t\\t\\t\\t\\t\\t\\t\\t\\t\\t\\t\\t\\n\\t\\t\\t\\t\\t\\t\\t\\t\\t\\t\\t\\t\\t\\t\\t\\t\\t\\n\\t\\t\\t\\t\\t\\t\\t\\t\\t\\t\\t\\t\\t\\t\\t\\t\\t\\n\\t\\t\\t\\t\\t\\t\\t\\t\\t\\t\\t\\t\\t\\t\\t\\t\\t\\n\\t\\t\\t\\t\\t\\t\\t\\t\\t\\t\\t\\t\\t\\t\\t\\t\\t\\n\\t\\t\\t\\t\\t\\t\\t\\t\\t\\t\\t\\t\\t\\t\\t\\t\\t\\n\\t\\t\\t\\t\\t\\t\\t\\t\\t\\t\\t\\t\\t\\t\\t\\t\\t\\n\\t\\t\\t\\t\\t\\t\\t\\t\\t\\t\\t\\t\\t\\t\\t\\t\\t\\n\\t\\t\\t\\t\\t\\t\\t\\t\\t\\t\\t\\t\\t\\t\\t\\t\\t\\n\\t\\t\\t\\t\\t\\t\\t\\t\\t\\t\\t\\t\\t\\t\\t\\t\\t\\n\\t\\t\\t\\t\\t\\t\\t\\t\\t\\t\\t\\t\\t\\t\\t\\t\\t\\n\\t\\t\\t\\t\\t\\t\\t\\t\\t\\t\\t\\t\\t\\t\\t\\t\\t\\n\\t\\t\\t\\t\\t\\t\\t\\t\\t\\t\\t\\t\\t\\t\\t\\t\\t\\n\\t\\t\\t\\t\\t\\t\\t\\t\\t\\t\\t\\t\\t\\t\\t\\t\\t\\n\\t\\t\\t\\t\\t\\t\\t\\t\\t\\t\\t\\t\\t\\t\\t\\t\\t\\n\\t\\t\\t\\t\\t\\t\\t\\t\\t\\t\\t\\t\\t\\t\\t\\t\\t\\n\\t\\t\\t\\t\\t\\t\\t\\t\\t\\t\\t\\t\\t\\t\\t\\t\\t\\n\\t\\t\\t\\t\\t\\t\\t\\t\\t\\t\\t\\t\\t\\t\\t\\t\\t\\n\\t\\t\\t\\t\\t\\t\\t\\t\\t\\t\\t\\t\\t\\t\\t\\t\\t\\n\\t\\t\\t\\t\\t\\t\\t\\t\\t\\t\\t\\t\\t\\t\\t\\t\\t\\n\\t\\t\\t\\t\\t\\t\\t\\t\\t\\t\\t\\t\\t\\t\\t\\t\\t\\n\\t\\t\\t\\t\\t\\t\\t\\t\\t\\t\\t\\t\\t\\t\\t\\t\\t\\n\\t\\t\\t\\t\\t\\t\\t\\t\\t\\t\\t\\t\\t\\t\\t\\t\\t\\n\\t\\t\\t\\t\\t\\t\\t\\t\\t\\t\\t\\t\\t\\t\\t\\t\\t\\n\\t\\t\\t\\t\\t\\t\\t\\t\\t\\t\\t\\t\\t\\t\\t\\t\\t\\n\\t\\t\\t\\t\\t\\t\\t\\t\\t\\t\\t\\t\\t\\t\\t\\t\\t\\n\\t\\t\\t\\t\\t\\t\\t\\t\\t\\t\\t\\t\\t\\t\\t\\t\\t\\n\\t\\t\\t\\t\\t\\t\\t\\t\\t\\t\\t\\t\\t\\t\\t\\t\\t\\n\\t\\t\\t\\t\\t\\t\\t\\t\\t\\t\\t\\t\\t\\t\\t\\t\\t\\n\\t\\t\\t\\t\\t\\t\\t\\t\\t\\t\\t\\t\\t\\t\\t\\t\\t\\n\\t\\t\\t\\t\\t\\t\\t\\t\\t\\t\\t\\t\\t\\t\\t\\t\\t\\n\\t\\t\\t\\t\\t\\t\\t\\t\\t\\t\\t\\t\\t\\t\\t\\t\\t\\n\\t\\t\\t\\t\\t\\t\\t\\t\\t\\t\\t\\t\\t\\t\\t\\t\\t\\n\\t\\t\\t\\t\\t\\t\\t\\t\\t\\t\\t\\t\\t\\t\\t\\t\\t\\n\\t\\t\\t\\t\\t\\t\\t\\t\\t\\t\\t\\t\\t\\t\\t\\t\\t\\n\\t\\t\\t\\t\\t\\t\\t\\t\\t\\t\\t\\t\\t\\t\\t\\t\\t\\n\\t\\t\\t\\t\\t\\t\\t\\t\\t\\t\\t\\t\\t\\t\\t\\t\\t\\n\\t\\t\\t\\t\\t\\t\\t\\t\\t\\t\\t\\t\\t\\t\\t\\t\\t\\n\\t\\t\\t\\t\\t\\t\\t\\t\\t\\t\\t\\t\\t\\t\\t\\t\\t\\n\\t\\t\\t\\t\\t\\t\\t\\t\\t\\t\\t\\t\\t\\t\\t\\t\\t\\n\\t\\t\\t\\t\\t\\t\\t\\t\\t\\t\\t\\t\\t\\t\\t\\t\\t\\n\\t\\t\\t\\t\\t\\t\\t\\t\\t\\t\\t\\t\\t\\t\\t\\t\\t\\n\\t\\t\\t\\t\\t\\t\\t\\t\\t\\t\\t\\t\\t\\t\\t\\t\\t\\n\\t\\t\\t\\t\\t\\t\\t\\t\\t\\t\\t\\t\\t\\t\\t\\t\\t\\n\\t\\t\\t\\t\\t\\t\\t\\t\\t\\t\\t\\t\\t\\t\\t\\t\\t\\n\\t\\t\\t\\t\\t\\t\\t\\t\\t\\t\\t\\t\\t\\t\\t\\t\\t\\n\\t\\t\\t\\t\\t\\t\\t\\t\\t\\t\\t\\t\\t\\t\\t\\t\\t\\n\\t\\t\\t\\t\\t\\t\\t\\t\\t\\t\\t\\t\\t\\t\\t\\t\\t\\n\\t\\t\\t\\t\\t\\t\\t\\t\\t\\t\\t\\t\\t\\t\\t\\t\\t\\n\\t\\t\\t\\t\\t\\t\\t\\t\\t\\t\\t\\t\\t\\t\\t\\t\\t\\n\\t\\t\\t\\t\\t\\t\\t\\t\\t\\t\\t\\t\\t\\t\\t\\t\\t\\n\\t\\t\\t\\t\\t\\t\\t\\t\\t\\t\\t\\t\\t\\t\\t\\t\\t\\n\\t\\t\\t\\t\\t\\t\\t\\t\\t\\t\\t\\t\\t\\t\\t\\t\\t\\n\\t\\t\\t\\t\\t\\t\\t\\t\\t\\t\\t\\t\\t\\t\\t\\t\\t\\n\\t\\t\\t\\t\\t\\t\\t\\t\\t\\t\\t\\t\\t\\t\\t\\t\\t\\n\\t\\t\\t\\t\\t\\t\\t\\t\\t\\t\\t\\t\\t\\t\\t\\t\\t\\n\\t\\t\\t\\t\\t\\t\\t\\t\\t\\t\\t\\t\\t\\t\\t\\t\\t\\n\\t\\t\\t\\t\\t\\t\\t\\t\\t\\t\\t\\t\\t\\t\\t\\t\\t\\n\\t\\t\\t\\t\\t\\t\\t\\t\\t\\t\\t\\t\\t\\t\\t\\t\\t\\n\\t\\t\\t\\t\\t\\t\\t\\t\\t\\t\\t\\t\\t\\t\\t\\t\\t\\n\\t\\t\\t\\t\\t\\t\\t\\t\\t\\t\\t\\t\\t\\t\\t\\t\\t\\n\\t\\t\\t\\t\\t\\t\\t\\t\\t\\t\\t\\t\\t\\t\\t\\t\\t\\n\\t\\t\\t\\t\\t\\t\\t\\t\\t\\t\\t\\t\\t\\t\\t\\t\\t\\n\\t\\t\\t\\t\\t\\t\\t\\t\\t\\t\\t\\t\\t\\t\\t\\t\\t\\n\\t\\t\\t\\t\\t\\t\\t\\t\\t\\t\\t\\t\\t\\t\\t\\t\\t\\n\\t\\t\\t\\t\\t\\t\\t\\t\\t\\t\\t\\t\\t\\t\\t\\t\\t\\n\\t\\t\\t\\t\\t\\t\\t\\t\\t\\t\\t\\t\\t\\t\\t\\t\\t\\n\\t\\t\\t\\t\\t\\t\\t\\t\\t\\t\\t\\t\\t\\t\\t\\t\\t\\n\\t\\t\\t\\t\\t\\t\\t\\t\\t\\t\\t\\t\\t\\t\\t\\t\\t\\n\\t\\t\\t\\t\\t\\t\\t\\t\\t\\t\\t\\t\\t\\t\\t\\t\\t\\n\\t\\t\\t\\t\\t\\t\\t\\t\\t\\t\\t\\t\\t\\t\\t\\t\\t\\n\\t\\t\\t\\t\\t\\t\\t\\t\\t\\t\\t\\t\\t\\t\\t\\t\\t\\n\\t\\t\\t\\t\\t\\t\\t\\t\\t\\t\\t\\t\\t\\t\\t\\t\\t\\n\\t\\t\\t\\t\\t\\t\\t\\t\\t\\t\\t\\t\\t\\t\\t\\t\\t\\n\\t\\t\\t\\t\\t\\t\\t\\t\\t\\t\\t\\t\\t\\t\\t\\t\\t\\n\\t\\t\\t\\t\\t\\t\\t\\t\\t\\t\\t\\t\\t\\t\\t\\t\\t\\n\\t\\t\\t\\t\\t\\t\\t\\t\\t\\t\\t\\t\\t\\t\\t\\t\\t\\n\\t\\t\\t\\t\\t\\t\\t\\t\\t\\t\\t\\t\\t\\t\\t\\t\\t\\n\\t\\t\\t\\t\\t\\t\\t\\t\\t\\t\\t\\t\\t\\t\\t\\t\\t\\n\\t\\t\\t\\t\\t\\t\\t\\t\\t\\t\\t\\t\\t\\t\\t\\t\\t\\n\\t\\t\\t\\t\\t\\t\\t\\t\\t\\t\\t\\t\\t\\t\\t\\t\\t\\n\\t\\t\\t\\t\\t\\t\\t\\t\\t\\t\\t\\t\\t\\t\\t\\t\\t\\n\\t\\t\\t\\t\\t\\t\\t\\t\\t\\t\\t\\t\\t\\t\\t\\t\\t\\n\\t\\t\\t\\t\\t\\t\\t\\t\\t\\t\\t\\t\\t\\t\\t\\t\\t\\n\\t\\t\\t\\t\\t\\t\\t\\t\\t\\t\\t\\t\\t\\t\\t\\t\\t\\n\\t\\t\\t\\t\\t\\t\\t\\t\\t\\t\\t\\t\\t\\t\\t\\t\\t\\n\\t\\t\\t\\t\\t\\t\\t\\t\\t\\t\\t\\t\\t\\t\\t\\t\\t\\n\\t\\t\\t\\t\\t\\t\\t\\t\\t\\t\\t\\t\\t\\t\\t\\t\\t\\n\\t\\t\\t\\t\\t\\t\\t\\t\\t\\t\\t\\t\\t\\t\\t\\t\\t\\n\\t\\t\\t\\t\\t\\t\\t\\t\\t\\t\\t\\t\\t\\t\\t\\t\\t\\n\\t\\t\\t\\t\\t\\t\\t\\t\\t\\t\\t\\t\\t\\t\\t\\t\\t\\n\""
      ]
     },
     "execution_count": 2,
     "metadata": {},
     "output_type": "execute_result"
    }
   ],
   "source": [
    "import requests\n",
    "page = requests.get(\"https://sg-weather.com/static/weather_chart/files/rwis_coords.txt\")\n",
    "page.content\n"
   ]
  },
  {
   "cell_type": "code",
   "execution_count": 3,
   "metadata": {},
   "outputs": [],
   "source": [
    "from bs4 import BeautifulSoup\n",
    "\n",
    "soup = BeautifulSoup(page.content, 'html.parser')\n"
   ]
  },
  {
   "cell_type": "code",
   "execution_count": 4,
   "metadata": {},
   "outputs": [
    {
     "name": "stdout",
     "output_type": "stream",
     "text": [
      "Siteid\tArea\t\tDescription\t\t\tLat\t\tLong\t\tElev (ft)\tDescription\t\t\t\t\t\t\t\t\t\t\n",
      "150000\tMissoula\tLookout Pass\t\t\t47.45357298\t-115.6950595\t4540\t\tLookout Pass I-90 MP 0.2\t\t\t\t\t\t\t\t\t\t\n",
      "150002\tMissoula\tBearmouth\t\t\t46.71854246\t-113.2953417\t3901\t\tBearmouth I-90 MP 145.8\t\t\t\t\t\t\t\t\t\t\n",
      "150003\tMissoula\tTrout Creek\t\t\t47.824111\t-115.572\t2384\t\tTrout Creek Hwy 200 MP 30.9\t\t\t\t\t\t\t\t\t\t\n",
      "150004\tMissoula\tGreenough Hill\t\t\t46.90280055\t-113.422989\t4070\t\tGreenough Hill MT200 MP 22.1\t\t\t\t\t\t\t\t\t\t\n",
      "150005\tMissoula\tNinemile\t\t\t47.02299397\t-114.3886779\t3170\t\tNinemile I-90 MP 81.8\t\t\t\t\t\t\t\t\t\t\n",
      "263000\tBillings\tYellowstone River Bridge\t45.79376126\t-108.4679891\t3194\t\tYellowstone River Bridge I-90 MP 452.3\t\t\t\t\t\t\t\t\t\t\n",
      "263001\tBillings\tReedpoint\t\t\t45.71005632\t-109.5783019\t3890\t\tReed Point I-90 MP 390.8\t\t\t\t\t\t\t\t\t\t\n",
      "263002\tBillings\tRoscoe Hill\t\t\t45.33857742\t-109.4936168\t5337\t\tRoscoe Hill MT78 MP 19.0\t\t\t\t\t\t\t\t\t\t\n",
      "263003\tBillings\tArrow Creek Hill\t\t45.77999929\t-108.163406\t3956\t\tArrow Creek Hill I-90 MP 468.6\t\t\t\t\t\t\t\t\t\t\n",
      "263004\tBillings\tAberdeen Hill\t\t\t45.0283938\t-107.3172887\t4101\t\tAberdeen Hill I-90 MP 552.3\t\t\t\t\t\t\t\t\t\t\n",
      "263005\tBillings\tHysham Hills\t\t\t46.16491617\t-107.3092735\t3549\t\tHysham Hills I-94 MP 60.0\t\t\t\t\t\t\t\t\t\t\n",
      "267001\tButte\t\tMonida Pass\t\t\t44.55766953\t-112.3136955\t6824\t\tMonida Pass I-15 MP 0.3\t\t\t\t\t\t\t\t\t\t\n",
      "267002\tButte\t\tMacDonald Pass\t\t\t46.56147997\t-112.3093051\t6320\t\tMacDonald Pass US12 MP 27.9\t\t\t\t\t\t\t\t\t\t\n",
      "267003\tButte\t\tBoulder Hill\t\t\t46.32329873\t-112.0689089\t5600\t\tBoulder Hill I-15 MP 170.9\t\t\t\t\t\t\t\t\t\t\n",
      "267004\tButte\t\tGarrison\t\t\t46.52361378\t-112.8084327\t4340\t\tGarrison I-90 MP 174.4\t\t\t\t\t\t\t\t\t\t\n",
      "267005\tButte\t\tBig Hole Pass\t\t\t45.31544733\t-113.3097377\t7400\t\tBig Hole Pass S-278 MP 32\t\t\t\t\t\t\t\t\t\t\n",
      "267006\tButte\t\tElk Park\t\t\t46.13589\t-112.39799\t6293\t\tElk Park I-15 Frontage MP 141.1\t\t\t\t\t\t\t\t\t\t\n",
      "267007\tButte\t\tAvon - North\t\t\t46.69679\t-112.65944\t5085\t\tAvon North - Hwy 141 MP 8.1\t\t\t\t\t\t\t\t\t\t\n",
      "267008\tButte\t\tHomestake Pass\t\t\t45.55088\t-112.24447\t6385\t\tHomestake Pass I-90 MP 233\t\t\t\t\t\t\t\t\t\t\n",
      "267009\tButte\t\tGeorgetown Lake\t\t\t46.190806\t-113.265306\t6339\t\tGeorgetown Lake Hwy 1 MP 25.4\t\t\t\t\t\t\t\t\t\t\n",
      "268000\tLewistown\tEast of Denton\t\t\t47.30022671\t-109.8511746\t3557\t\tEast of Denton MT81 MP 17\t\t\t\t\t\t\t\t\t\t\n",
      "268001\tLewistown\tJudith Gap\t\t\t46.68765404\t-109.7502125\t4677\t\tJudith Gap US-191 MP 18.6\t\t\t\t\t\t\t\t\t\t\n",
      "268003\tLewistown\tBull Mountain Divide\t\t46.24743675\t-108.4612106\t3898\t\tBull Mountain US87 MP 33.3\t\t\t\t\t\t\t\t\t\t\n",
      "268004\tLewistown\tHays Site\t\t\t47.91928257\t-108.7261054\t3697\t\tHays Site MT66 MP 10.5\t\t\t\t\t\t\t\t\t\t\n",
      "268005\tLewistown\tLewistown Divide\t\t47.06180057\t-109.1844339\t4622\t\tLewistown Divide MT200 MP 90.3\t\t\t\t\t\t\t\t\t\t\n",
      "268006\tLewistown\tGeyser\t\t\t\t47.242694\t-110.469556\t4138\t\tGeyser US87 MP 23\t\t\t\t\t\t\t\t\t\t\n",
      "269000\tWolf Point\tMalta South\t\t\t47.96112732\t-108.3055539\t3122\t\tMalta South US191 MP 122.5\t\t\t\t\t\t\t\t\t\t\n",
      "269001\tWolf Point\tMcDonald's\t\t\t48.42732302\t-105.4423371\t2401\t\tMcDonalds MT13 MP 25.5\t\t\t\t\t\t\t\t\t\t\n",
      "269002\tWolf Point\tNavajo\t\t\t\t48.8184514\t-104.9971444\t2570\t\tNavajo MT-5 MP 16.7\t\t\t\t\t\t\t\t\t\t\n",
      "269003\tWolf Point\tComertown Turn-off\t\t48.80999661\t-104.2528984\t2099\t\tComertown Turn-Off MT5 MP 13.4\t\t\t\t\t\t\t\t\t\t\n",
      "269004\tWolf Point\tUS2 @Stateline\t\t\t48.13764491\t-104.0468714\t2099\t\tUS 2 @ Stateline\t\t\t\t\t\t\t\t\t\t\n",
      "269005\tWolf Point\tSaco\t\t\t\t48.451389\t-107.301667\t2177\t\tSaco US2 MP 502.5\t\t\t\t\t\t\t\t\t\t\n",
      "301000\tGreat Falls\tMonarch Canyon\t\t\t47.14289771\t-110.8230922\t5218\t\tMonarch Canyon US89 MP 53.5\t\t\t\t\t\t\t\t\t\t\n",
      "301001\tGreat Falls\tPendroy\t\t\t\t48.07321688\t-112.3341821\t4199\t\tPendroy US89 MP 62.6\t\t\t\t\t\t\t\t\t\t\n",
      "301002\tGreat Falls\tBowmans\t\t\t\t47.29219699\t-112.151831\t4301\t\tBowmans MT200 MP110.4\t\t\t\t\t\t\t\t\t\t\n",
      "301003\tGreat Falls\tHelmville\t\t\t46.96826155\t-112.9748725\t4199\t\tHelmville MT200 MP 53.3\t\t\t\t\t\t\t\t\t\t\n",
      "301004\tGreat Falls\tGary Cooper Bridge\t\t47.13947959\t-111.8590804\t3500\t\tGary Cooper Bridge I-15 MP 242\t\t\t\t\t\t\t\t\t\t\n",
      "301005\tGreat Falls\tSieben\t\t\t\t46.88748267\t-112.1111196\t4040\t\tSieben I-15 MP 216\t\t\t\t\t\t\t\t\t\t\n",
      "301006\tGreat Falls\tPrickley Pear\t\t\t46.91392183\t-112.1167054\t3943\t\tPrickley Pear I-15 MP 218.6 Elev 3943\t\t\t\t\t\t\t\t\t\t\n",
      "301007\tGreat Falls\tRoger's Pass\t\t\t47.0877\t\t-112.372317\t5406\t\tRogers Pass MT200 MP 90.8\t\t\t\t\t\t\t\t\t\t\n",
      "302000\tGlendive\tLufborough Hill\t\t\t47.07813042\t-107.5720063\t2998\t\tLufborough Hill MT200 MP 175.3\t\t\t\t\t\t\t\t\t\t\n",
      "302001\tGlendive\tCow Creek\t\t\t47.68836679\t-105.4918552\t2500\t\tCow Creek MT13 MP 19.9 Elev 2500\t\t\t\t\t\t\t\t\t\t\n",
      "302002\tGlendive\tLindsay Divide\t\t\t47.28293547\t-105.2938704\t3198\t\tLindsay Divide MT200 MP 296.5 Elev 3198\t\t\t\t\t\t\t\t\t\t\n",
      "302003\tGlendive\tBeaver Hill\t\t\t47.02197621\t-104.3300043\t2551\t\tBeaver Hill I-94 MP 234.8\t\t\t\t\t\t\t\t\t\t\n",
      "302004\tGlendive\tSioux Pass\t\t\t47.91972733\t-104.3261866\t2480\t\tSioux Pass MT16 MP 21 Elev 2480\t\t\t\t\t\t\t\t\t\t\n",
      "563000\tMiles City\tLame Deer Divide\t\t45.62885913\t-106.5112452\t4327\t\tLame Deer Divide US212 MP 50.1\t\t\t\t\t\t\t\t\t\t\n",
      "563001\tMiles City\tSweeney Creek\t\t\t46.26670992\t-106.3078849\t2598\t\tSweeney Creek I-94 MP 112.6\t\t\t\t\t\t\t\t\t\t\n",
      "563002\tMiles City\tRock Springs\t\t\t46.83370217\t-106.2713308\t2998\t\tRock Springs MT59 MP36.5\t\t\t\t\t\t\t\t\t\t\n",
      "563003\tMiles City\tBaker\t\t\t\t46.08358891\t-104.4355227\t3500\t\tBaker MT7 MP 14.2\t\t\t\t\t\t\t\t\t\t\n",
      "563004\tMiles City\tAlzada\t\t\t\t45.00274858\t-104.3736231\t4327\t\tAlzada US212 MP 139.4\t\t\t\t\t\t\t\t\t\t\n",
      "563005\tMiles City\tGovernment Hill\t\t\t46.41\t\t-105.67\t\t3165\t\tGovernment Hill Hwy 12 MP 14.2\t\t\t\t\t\t\t\t\t\t\n",
      "563006\tMiles City\tIngomar\t\t\t\t46.583528\t-107.376\t3020\t\tIngomar US12 MP 230\t\t\t\t\t\t\t\t\t\t\n",
      "563007\tMiles City\tEkalaka\t\t\t\t45.312\t\t-104.46657\t3687\t\tEkalaka S323 MP 46.8\t\t\t\t\t\t\t\t\t\t\n",
      "563008\tMiles City\tBiddle\t\t\t\t45.012976\t-105.376985\t3418\t\tBiddle Hwy 59 MP 0.9\t\t\t\t\t\t\t\t\t\t\n",
      "564000\tBozeman\t\tRaynolds Pass\t\t\t44.72814115\t-111.4701211\t6778\t\tRaynolds Pass MT87 MP 1.2\t\t\t\t\t\t\t\t\t\t\n",
      "564001\tBozeman\t\tKarst\t\t\t\t45.34534328\t-111.1726064\t5698\t\tKarst US191 MP 55.3\t\t\t\t\t\t\t\t\t\t\n",
      "564002\tBozeman\t\tBozeman Pass\t\t\t45.66681641\t-110.8039548\t5748\t\tBozeman Pass I-90 MP 321.8\t\t\t\t\t\t\t\t\t\t\n",
      "564003\tBozeman\t\tEast Livingston\t\t\t45.6855379\t-110.5044463\t4555\t\tEast Livingston I-90 MP 337.7\t\t\t\t\t\t\t\t\t\t\n",
      "564004\tBozeman\t\tNorris Hill\t\t\t45.49959623\t-111.6961793\t5400\t\tNorris Hill US287 MP 60\t\t\t\t\t\t\t\t\t\t\n",
      "564005\tBozeman\t\tDeep Creek\t\t\t46.35146\t-111.06681\t5870\t\tDeep Creek US-12 MP 23.5\t\t\t\t\t\t\t\t\t\t\n",
      "564006\tBozeman\t\tLivingston Wind\t\t\t45.39201\t-111.02662\t5401\t\tLivingston Wind - I-90 MP 331.7 Elev 5401\t\t\t\t\t\t\t\t\t\t\n",
      "628000\tKalispell\tEssex\t\t\t\t48.28175578\t-113.6065696\t3875\t\tEssex US2 MP 179.9\t\t\t\t\t\t\t\t\t\t\n",
      "628001\tKalispell\tDickey Lake\t\t\t48.69452866\t-114.7843654\t3487\t\tDickey Lake US93 MP160.2\t\t\t\t\t\t\t\t\t\t\n",
      "628002\tKalispell\tFlathead River\t\t\t48.21907646\t-114.2379324\t2851\t\tFlathead River MT 35 MP49\t\t\t\t\t\t\t\t\t\t\n",
      "628003\tKalispell\tYaak Hill\t\t\t48.58339724\t-115.9840606\t2201\t\tYaak Hill US2 MP 4.8 Elev 2201\t\t\t\t\t\t\t\t\t\t\n",
      "628004\tKalispell\tCrystal Creek\t\t\t48.11760012\t-115.4200364\t3030\t\tCrystal Creek US2 MP 53.1\t\t\t\t\t\t\t\t\t\t\n",
      "628005\tKalispell\tSwan Lake South\t\t\t47.59102693\t-113.7557434\t3567\t\tSwan Lake South MT83 MP 47\t\t\t\t\t\t\t\t\t\t\n",
      "629000\tHavre\t\tInverness\t\t\t48.55321455\t-110.6482198\t3300\t\tInverness US2 MP 337.6\t\t\t\t\t\t\t\t\t\t\n",
      "629001\tHavre\t\tSweetgrass\t\t\t48.96016563\t-111.9407131\t3690\t\tSweet Grass I-15 MP 397.3\t\t\t\t\t\t\t\t\t\t\n",
      "629002\tHavre\t\tTwo Medicine Bridge\t\t48.45265138\t-113.1950716\t4920\t\tTwo Medicine Bridge US2 MP 210.7\t\t\t\t\t\t\t\t\t\t\n",
      "629003\tHavre\t\tLoma\t\t\t\t47.95102703\t-110.5047682\t2557\t\tLoma US87 MP 53.1\t\t\t\t\t\t\t\t\t\t\n",
      "629004\tHavre\t\tSunburst\t\t\t48.88015\t-111.89871\t3401\t\tSunburst I-15 MP 389\t\t\t\t\t\t\t\t\t\t\n",
      "629005\tHavre\t\tBrowning\t\t\t48.5345\t\t-112.9808\t4419\t\tBrowning US2/US89 MP 223.1\n",
      "\n"
     ]
    }
   ],
   "source": [
    "print(soup.prettify())\n"
   ]
  },
  {
   "cell_type": "code",
   "execution_count": null,
   "metadata": {},
   "outputs": [],
   "source": []
  },
  {
   "cell_type": "code",
   "execution_count": 33,
   "metadata": {},
   "outputs": [
    {
     "name": "stdout",
     "output_type": "stream",
     "text": [
      "{  stateid: 150000  ,area: 'Missoula'  ,description:  'Lookout Pass'  ,latitude: 47.45357298  ,longitude: -115.6950595  ,elevation_ft: 4540  ,description_long: 'Lookout Pass I-90 MP 0.2'  ,air_temprature: '44.6F' },\n",
      "{  stateid: 150002  ,area: 'Missoula'  ,description:  'Bearmouth'  ,latitude: 46.71854246  ,longitude: -113.2953417  ,elevation_ft: 3901  ,description_long: 'Bearmouth I-90 MP 145.8'  ,air_temprature: '63F' },\n",
      "{  stateid: 150003  ,area: 'Missoula'  ,description:  'Trout Creek'  ,latitude: 47.824111  ,longitude: -115.572  ,elevation_ft: 2384  ,description_long: 'Trout Creek Hwy 200 MP 30.9'  ,air_temprature: '44.6F' },\n",
      "{  stateid: 150004  ,area: 'Missoula'  ,description:  'Greenough Hill'  ,latitude: 46.90280055  ,longitude: -113.422989  ,elevation_ft: 4070  ,description_long: 'Greenough Hill MT200 MP 22.1'  ,air_temprature: '63F' },\n",
      "{  stateid: 150005  ,area: 'Missoula'  ,description:  'Ninemile'  ,latitude: 47.02299397  ,longitude: -114.3886779  ,elevation_ft: 3170  ,description_long: 'Ninemile I-90 MP 81.8'  ,air_temprature: '61.23F' },\n",
      "{  stateid: 263000  ,area: 'Billings'  ,description:  'Yellowstone River Bridge'  ,latitude: 45.79376126  ,longitude: -108.4679891  ,elevation_ft: 3194  ,description_long: 'Yellowstone River Bridge I-90 MP 452.3'  ,air_temprature: '72.19F' },\n",
      "{  stateid: 263001  ,area: 'Billings'  ,description:  'Reedpoint'  ,latitude: 45.71005632  ,longitude: -109.5783019  ,elevation_ft: 3890  ,description_long: 'Reed Point I-90 MP 390.8'  ,air_temprature: '73.63F' },\n",
      "{  stateid: 263002  ,area: 'Billings'  ,description:  'Roscoe Hill'  ,latitude: 45.33857742  ,longitude: -109.4936168  ,elevation_ft: 5337  ,description_long: 'Roscoe Hill MT78 MP 19.0'  ,air_temprature: '74.7F' },\n",
      "{  stateid: 263003  ,area: 'Billings'  ,description:  'Arrow Creek Hill'  ,latitude: 45.77999929  ,longitude: -108.163406  ,elevation_ft: 3956  ,description_long: 'Arrow Creek Hill I-90 MP 468.6'  ,air_temprature: '72.21F' },\n",
      "{  stateid: 263004  ,area: 'Billings'  ,description:  'Aberdeen Hill'  ,latitude: 45.0283938  ,longitude: -107.3172887  ,elevation_ft: 4101  ,description_long: 'Aberdeen Hill I-90 MP 552.3'  ,air_temprature: '75.27F' },\n",
      "{  stateid: 263005  ,area: 'Billings'  ,description:  'Hysham Hills'  ,latitude: 46.16491617  ,longitude: -107.3092735  ,elevation_ft: 3549  ,description_long: 'Hysham Hills I-94 MP 60.0'  ,air_temprature: '75.2F' },\n",
      "{  stateid: 267001  ,area: 'Butte'  ,description:  'Monida Pass'  ,latitude: 44.55766953  ,longitude: -112.3136955  ,elevation_ft: 6824  ,description_long: 'Monida Pass I-15 MP 0.3'  ,air_temprature: '73F' },\n",
      "{  stateid: 267002  ,area: 'Butte'  ,description:  'MacDonald Pass'  ,latitude: 46.56147997  ,longitude: -112.3093051  ,elevation_ft: 6320  ,description_long: 'MacDonald Pass US12 MP 27.9'  ,air_temprature: '66.94F' },\n",
      "{  stateid: 267003  ,area: 'Butte'  ,description:  'Boulder Hill'  ,latitude: 46.32329873  ,longitude: -112.0689089  ,elevation_ft: 5600  ,description_long: 'Boulder Hill I-15 MP 170.9'  ,air_temprature: '71.1F' },\n",
      "{  stateid: 267004  ,area: 'Butte'  ,description:  'Garrison'  ,latitude: 46.52361378  ,longitude: -112.8084327  ,elevation_ft: 4340  ,description_long: 'Garrison I-90 MP 174.4'  ,air_temprature: '62.01F' },\n",
      "{  stateid: 267005  ,area: 'Butte'  ,description:  'Big Hole Pass'  ,latitude: 45.31544733  ,longitude: -113.3097377  ,elevation_ft: 7400  ,description_long: 'Big Hole Pass S-278 MP 32'  ,air_temprature: '70.92F' },\n",
      "{  stateid: 267006  ,area: 'Butte'  ,description:  'Elk Park'  ,latitude: 46.13589  ,longitude: -112.39799  ,elevation_ft: 6293  ,description_long: 'Elk Park I-15 Frontage MP 141.1'  ,air_temprature: '66.2F' },\n",
      "{  stateid: 267007  ,area: 'Butte'  ,description:  'Avon - North'  ,latitude: 46.69679  ,longitude: -112.65944  ,elevation_ft: 5085  ,description_long: 'Avon North - Hwy 141 MP 8.1'  ,air_temprature: '62.01F' },\n",
      "{  stateid: 267008  ,area: 'Butte'  ,description:  'Homestake Pass'  ,latitude: 45.55088  ,longitude: -112.24447  ,elevation_ft: 6385  ,description_long: 'Homestake Pass I-90 MP 233'  ,air_temprature: '71.01F' },\n",
      "{  stateid: 267009  ,area: 'Butte'  ,description:  'Georgetown Lake'  ,latitude: 46.190806  ,longitude: -113.265306  ,elevation_ft: 6339  ,description_long: 'Georgetown Lake Hwy 1 MP 25.4'  ,air_temprature: '64.44F' },\n",
      "{  stateid: 268000  ,area: 'Lewistown'  ,description:  'East of Denton'  ,latitude: 47.30022671  ,longitude: -109.8511746  ,elevation_ft: 3557  ,description_long: 'East of Denton MT81 MP 17'  ,air_temprature: '72.81F' },\n",
      "{  stateid: 268001  ,area: 'Lewistown'  ,description:  'Judith Gap'  ,latitude: 46.68765404  ,longitude: -109.7502125  ,elevation_ft: 4677  ,description_long: 'Judith Gap US-191 MP 18.6'  ,air_temprature: '70.99F' },\n",
      "{  stateid: 268003  ,area: 'Lewistown'  ,description:  'Bull Mountain Divide'  ,latitude: 46.24743675  ,longitude: -108.4612106  ,elevation_ft: 3898  ,description_long: 'Bull Mountain US87 MP 33.3'  ,air_temprature: '72.19F' },\n",
      "{  stateid: 268004  ,area: 'Lewistown'  ,description:  'Hays Site'  ,latitude: 47.91928257  ,longitude: -108.7261054  ,elevation_ft: 3697  ,description_long: 'Hays Site MT66 MP 10.5'  ,air_temprature: '64F' },\n",
      "{  stateid: 268005  ,area: 'Lewistown'  ,description:  'Lewistown Divide'  ,latitude: 47.06180057  ,longitude: -109.1844339  ,elevation_ft: 4622  ,description_long: 'Lewistown Divide MT200 MP 90.3'  ,air_temprature: '72.72F' },\n",
      "{  stateid: 268006  ,area: 'Lewistown'  ,description:  'Geyser'  ,latitude: 47.242694  ,longitude: -110.469556  ,elevation_ft: 4138  ,description_long: 'Geyser US87 MP 23'  ,air_temprature: '72.32F' },\n",
      "{  stateid: 269000  ,area: 'Wolf Point'  ,description:  'Malta South'  ,latitude: 47.96112732  ,longitude: -108.3055539  ,elevation_ft: 3122  ,description_long: 'Malta South US191 MP 122.5'  ,air_temprature: '64F' },\n",
      "{  stateid: 269001  ,area: 'Wolf Point'  ,description:  'McDonald's'  ,latitude: 48.42732302  ,longitude: -105.4423371  ,elevation_ft: 2401  ,description_long: 'McDonalds MT13 MP 25.5'  ,air_temprature: '73.33F' },\n",
      "{  stateid: 269002  ,area: 'Wolf Point'  ,description:  'Navajo'  ,latitude: 48.8184514  ,longitude: -104.9971444  ,elevation_ft: 2570  ,description_long: 'Navajo MT-5 MP 16.7'  ,air_temprature: '73F' },\n",
      "{  stateid: 269003  ,area: 'Wolf Point'  ,description:  'Comertown Turn-off'  ,latitude: 48.80999661  ,longitude: -104.2528984  ,elevation_ft: 2099  ,description_long: 'Comertown Turn-Off MT5 MP 13.4'  ,air_temprature: '75.99F' },\n",
      "{  stateid: 269004  ,area: 'Wolf Point'  ,description:  'US2 @Stateline'  ,latitude: 48.13764491  ,longitude: -104.0468714  ,elevation_ft: 2099  ,description_long: 'US 2 @ Stateline'  ,air_temprature: '78.75F' },\n",
      "{  stateid: 269005  ,area: 'Wolf Point'  ,description:  'Saco'  ,latitude: 48.451389  ,longitude: -107.301667  ,elevation_ft: 2177  ,description_long: 'Saco US2 MP 502.5'  ,air_temprature: '72.1F' },\n",
      "{  stateid: 301000  ,area: 'Great Falls'  ,description:  'Monarch Canyon'  ,latitude: 47.14289771  ,longitude: -110.8230922  ,elevation_ft: 5218  ,description_long: 'Monarch Canyon US89 MP 53.5'  ,air_temprature: '71.47F' },\n",
      "{  stateid: 301001  ,area: 'Great Falls'  ,description:  'Pendroy'  ,latitude: 48.07321688  ,longitude: -112.3341821  ,elevation_ft: 4199  ,description_long: 'Pendroy US89 MP 62.6'  ,air_temprature: '66.33F' },\n",
      "{  stateid: 301002  ,area: 'Great Falls'  ,description:  'Bowmans'  ,latitude: 47.29219699  ,longitude: -112.151831  ,elevation_ft: 4301  ,description_long: 'Bowmans MT200 MP110.4'  ,air_temprature: '70.07F' },\n",
      "{  stateid: 301003  ,area: 'Great Falls'  ,description:  'Helmville'  ,latitude: 46.96826155  ,longitude: -112.9748725  ,elevation_ft: 4199  ,description_long: 'Helmville MT200 MP 53.3'  ,air_temprature: '62.33F' },\n",
      "{  stateid: 301004  ,area: 'Great Falls'  ,description:  'Gary Cooper Bridge'  ,latitude: 47.13947959  ,longitude: -111.8590804  ,elevation_ft: 3500  ,description_long: 'Gary Cooper Bridge I-15 MP 242'  ,air_temprature: '70.54F' },\n",
      "{  stateid: 301005  ,area: 'Great Falls'  ,description:  'Sieben'  ,latitude: 46.88748267  ,longitude: -112.1111196  ,elevation_ft: 4040  ,description_long: 'Sieben I-15 MP 216'  ,air_temprature: '71.8F' },\n",
      "{  stateid: 301006  ,area: 'Great Falls'  ,description:  'Prickley Pear'  ,latitude: 46.91392183  ,longitude: -112.1167054  ,elevation_ft: 3943  ,description_long: 'Prickley Pear I-15 MP 218.6 Elev 3943'  ,air_temprature: '71.83F' },\n",
      "{  stateid: 301007  ,area: 'Great Falls'  ,description:  'Roger's Pass'  ,latitude: 47.0877  ,longitude: -112.372317  ,elevation_ft: 5406  ,description_long: 'Rogers Pass MT200 MP 90.8'  ,air_temprature: '71.6F' },\n"
     ]
    },
    {
     "name": "stdout",
     "output_type": "stream",
     "text": [
      "{  stateid: 302000  ,area: 'Glendive'  ,description:  'Lufborough Hill'  ,latitude: 47.07813042  ,longitude: -107.5720063  ,elevation_ft: 2998  ,description_long: 'Lufborough Hill MT200 MP 175.3'  ,air_temprature: '75.99F' },\n",
      "{  stateid: 302001  ,area: 'Glendive'  ,description:  'Cow Creek'  ,latitude: 47.68836679  ,longitude: -105.4918552  ,elevation_ft: 2500  ,description_long: 'Cow Creek MT13 MP 19.9 Elev 2500'  ,air_temprature: '77.36F' },\n",
      "{  stateid: 302002  ,area: 'Glendive'  ,description:  'Lindsay Divide'  ,latitude: 47.28293547  ,longitude: -105.2938704  ,elevation_ft: 3198  ,description_long: 'Lindsay Divide MT200 MP 296.5 Elev 3198'  ,air_temprature: '80.92F' },\n",
      "{  stateid: 302003  ,area: 'Glendive'  ,description:  'Beaver Hill'  ,latitude: 47.02197621  ,longitude: -104.3300043  ,elevation_ft: 2551  ,description_long: 'Beaver Hill I-94 MP 234.8'  ,air_temprature: '79.61F' },\n",
      "{  stateid: 302004  ,area: 'Glendive'  ,description:  'Sioux Pass'  ,latitude: 47.91972733  ,longitude: -104.3261866  ,elevation_ft: 2480  ,description_long: 'Sioux Pass MT16 MP 21 Elev 2480'  ,air_temprature: '75.99F' },\n",
      "{  stateid: 563000  ,area: 'Miles City'  ,description:  'Lame Deer Divide'  ,latitude: 45.62885913  ,longitude: -106.5112452  ,elevation_ft: 4327  ,description_long: 'Lame Deer Divide US212 MP 50.1'  ,air_temprature: '77.45F' },\n",
      "{  stateid: 563001  ,area: 'Miles City'  ,description:  'Sweeney Creek'  ,latitude: 46.26670992  ,longitude: -106.3078849  ,elevation_ft: 2598  ,description_long: 'Sweeney Creek I-94 MP 112.6'  ,air_temprature: '77F' },\n",
      "{  stateid: 563002  ,area: 'Miles City'  ,description:  'Rock Springs'  ,latitude: 46.83370217  ,longitude: -106.2713308  ,elevation_ft: 2998  ,description_long: 'Rock Springs MT59 MP36.5'  ,air_temprature: '77F' },\n",
      "{  stateid: 563003  ,area: 'Miles City'  ,description:  'Baker'  ,latitude: 46.08358891  ,longitude: -104.4355227  ,elevation_ft: 3500  ,description_long: 'Baker MT7 MP 14.2'  ,air_temprature: '78.8F' },\n",
      "{  stateid: 563004  ,area: 'Miles City'  ,description:  'Alzada'  ,latitude: 45.00274858  ,longitude: -104.3736231  ,elevation_ft: 4327  ,description_long: 'Alzada US212 MP 139.4'  ,air_temprature: '79.79F' },\n",
      "{  stateid: 563005  ,area: 'Miles City'  ,description:  'Government Hill'  ,latitude: 46.41  ,longitude: -105.67  ,elevation_ft: 3165  ,description_long: 'Government Hill Hwy 12 MP 14.2'  ,air_temprature: '77F' },\n",
      "{  stateid: 563006  ,area: 'Miles City'  ,description:  'Ingomar'  ,latitude: 46.583528  ,longitude: -107.376  ,elevation_ft: 3020  ,description_long: 'Ingomar US12 MP 230'  ,air_temprature: '73.58F' },\n",
      "{  stateid: 563007  ,area: 'Miles City'  ,description:  'Ekalaka'  ,latitude: 45.312  ,longitude: -104.46657  ,elevation_ft: 3687  ,description_long: 'Ekalaka S323 MP 46.8'  ,air_temprature: '79F' },\n",
      "{  stateid: 563008  ,area: 'Miles City'  ,description:  'Biddle'  ,latitude: 45.012976  ,longitude: -105.376985  ,elevation_ft: 3418  ,description_long: 'Biddle Hwy 59 MP 0.9'  ,air_temprature: '80.01F' },\n",
      "{  stateid: 564000  ,area: 'Bozeman'  ,description:  'Raynolds Pass'  ,latitude: 44.72814115  ,longitude: -111.4701211  ,elevation_ft: 6778  ,description_long: 'Raynolds Pass MT87 MP 1.2'  ,air_temprature: '63F' },\n",
      "{  stateid: 564001  ,area: 'Bozeman'  ,description:  'Karst'  ,latitude: 45.34534328  ,longitude: -111.1726064  ,elevation_ft: 5698  ,description_long: 'Karst US191 MP 55.3'  ,air_temprature: '74.93F' },\n",
      "{  stateid: 564002  ,area: 'Bozeman'  ,description:  'Bozeman Pass'  ,latitude: 45.66681641  ,longitude: -110.8039548  ,elevation_ft: 5748  ,description_long: 'Bozeman Pass I-90 MP 321.8'  ,air_temprature: '70.07F' },\n",
      "{  stateid: 564003  ,area: 'Bozeman'  ,description:  'East Livingston'  ,latitude: 45.6855379  ,longitude: -110.5044463  ,elevation_ft: 4555  ,description_long: 'East Livingston I-90 MP 337.7'  ,air_temprature: '69.21F' },\n",
      "{  stateid: 564004  ,area: 'Bozeman'  ,description:  'Norris Hill'  ,latitude: 45.49959623  ,longitude: -111.6961793  ,elevation_ft: 5400  ,description_long: 'Norris Hill US287 MP 60'  ,air_temprature: '73.99F' },\n",
      "{  stateid: 564005  ,area: 'Bozeman'  ,description:  'Deep Creek'  ,latitude: 46.35146  ,longitude: -111.06681  ,elevation_ft: 5870  ,description_long: 'Deep Creek US-12 MP 23.5'  ,air_temprature: '74.07F' },\n",
      "{  stateid: 564006  ,area: 'Bozeman'  ,description:  'Livingston Wind'  ,latitude: 45.39201  ,longitude: -111.02662  ,elevation_ft: 5401  ,description_long: 'Livingston Wind - I-90 MP 331.7 Elev 5401'  ,air_temprature: '71.6F' },\n",
      "{  stateid: 628000  ,area: 'Kalispell'  ,description:  'Essex'  ,latitude: 48.28175578  ,longitude: -113.6065696  ,elevation_ft: 3875  ,description_long: 'Essex US2 MP 179.9'  ,air_temprature: '59.67F' },\n",
      "{  stateid: 628001  ,area: 'Kalispell'  ,description:  'Dickey Lake'  ,latitude: 48.69452866  ,longitude: -114.7843654  ,elevation_ft: 3487  ,description_long: 'Dickey Lake US93 MP160.2'  ,air_temprature: '58.53F' },\n",
      "{  stateid: 628002  ,area: 'Kalispell'  ,description:  'Flathead River'  ,latitude: 48.21907646  ,longitude: -114.2379324  ,elevation_ft: 2851  ,description_long: 'Flathead River MT 35 MP49'  ,air_temprature: '59.32F' },\n",
      "{  stateid: 628003  ,area: 'Kalispell'  ,description:  'Yaak Hill'  ,latitude: 48.58339724  ,longitude: -115.9840606  ,elevation_ft: 2201  ,description_long: 'Yaak Hill US2 MP 4.8 Elev 2201'  ,air_temprature: '56.16F' },\n",
      "{  stateid: 628004  ,area: 'Kalispell'  ,description:  'Crystal Creek'  ,latitude: 48.11760012  ,longitude: -115.4200364  ,elevation_ft: 3030  ,description_long: 'Crystal Creek US2 MP 53.1'  ,air_temprature: '61.75F' },\n",
      "{  stateid: 628005  ,area: 'Kalispell'  ,description:  'Swan Lake South'  ,latitude: 47.59102693  ,longitude: -113.7557434  ,elevation_ft: 3567  ,description_long: 'Swan Lake South MT83 MP 47'  ,air_temprature: '61.36F' },\n",
      "{  stateid: 629000  ,area: 'Havre'  ,description:  'Inverness'  ,latitude: 48.55321455  ,longitude: -110.6482198  ,elevation_ft: 3300  ,description_long: 'Inverness US2 MP 337.6'  ,air_temprature: '75.83F' },\n",
      "{  stateid: 629001  ,area: 'Havre'  ,description:  'Sweetgrass'  ,latitude: 48.96016563  ,longitude: -111.9407131  ,elevation_ft: 3690  ,description_long: 'Sweet Grass I-15 MP 397.3'  ,air_temprature: '66.99F' },\n",
      "{  stateid: 629002  ,area: 'Havre'  ,description:  'Two Medicine Bridge'  ,latitude: 48.45265138  ,longitude: -113.1950716  ,elevation_ft: 4920  ,description_long: 'Two Medicine Bridge US2 MP 210.7'  ,air_temprature: '63.14F' },\n",
      "{  stateid: 629003  ,area: 'Havre'  ,description:  'Loma'  ,latitude: 47.95102703  ,longitude: -110.5047682  ,elevation_ft: 2557  ,description_long: 'Loma US87 MP 53.1'  ,air_temprature: '77.97F' },\n",
      "{  stateid: 629004  ,area: 'Havre'  ,description:  'Sunburst'  ,latitude: 48.88015  ,longitude: -111.89871  ,elevation_ft: 3401  ,description_long: 'Sunburst I-15 MP 389'  ,air_temprature: '66.99F' },\n",
      "{  stateid: 629005  ,area: 'Havre'  ,description:  'Browning'  ,latitude: 48.5345  ,longitude: -112.9808  ,elevation_ft: 4419  ,description_long: 'Browning US2/US89 MP 223.1'  ,air_temprature: '65.26F' },\n"
     ]
    }
   ],
   "source": [
    "file1 = open('foo.txt', 'r') \n",
    "Lines = file1.readlines() \n",
    "\n",
    "file2 = open('cleaned.txt', 'w')\n",
    "\n",
    "count = 0\n",
    "# Strips the newline character \n",
    "for line in Lines: \n",
    "    if count != 0:\n",
    "        a = line.split('\\t')        \n",
    "        a = [x for x in a if x != \"\"]\n",
    "        \n",
    "        url = 'https://api.openweathermap.org/data/2.5/weather?lat=' + a[3] + '&lon=' + a[4] + '&appid=ba1ea204c72ac863c39f442476b8bc71&units=imperial'\n",
    "        response = requests.get(url)\n",
    "                \n",
    "        \n",
    "        data = response.json()\n",
    "        air_temp = \"'\" + str(data['main']['temp']) + 'F' + \"'\"\n",
    "        \n",
    "    \n",
    "        \n",
    "        print(\"{\", \" stateid:\",a[0], ' ,area:', \"'\" +a[1]+ \"'\", ' ,description: ',\"'\" +a[2]+ \"'\"\n",
    "              ,' ,latitude:',a[3],' ,longitude:',a[4],   \n",
    "              ' ,elevation_ft:', a[5], ' ,description_long:',\"'\" +a[6]+ \"'\", ' ,air_temprature:',air_temp,\"},\")\n",
    "        \n",
    "        \n",
    "        \n",
    "        \n",
    "        \n",
    "    count += 1\n",
    "    \n",
    "file2.close()"
   ]
  },
  {
   "cell_type": "code",
   "execution_count": 3,
   "metadata": {},
   "outputs": [],
   "source": [
    "import requests, json\n",
    "\n",
    "response = requests.get('https://api.openweathermap.org/data/2.5/weather?lat=47&lon=110&appid=ba1ea204c72ac863c39f442476b8bc71&units=imperial')\n"
   ]
  },
  {
   "cell_type": "code",
   "execution_count": 4,
   "metadata": {},
   "outputs": [
    {
     "data": {
      "text/plain": [
       "<Response [200]>"
      ]
     },
     "execution_count": 4,
     "metadata": {},
     "output_type": "execute_result"
    }
   ],
   "source": [
    "response"
   ]
  },
  {
   "cell_type": "code",
   "execution_count": null,
   "metadata": {},
   "outputs": [],
   "source": []
  }
 ],
 "metadata": {
  "kernelspec": {
   "display_name": "Python 3",
   "language": "python",
   "name": "python3"
  },
  "language_info": {
   "codemirror_mode": {
    "name": "ipython",
    "version": 3
   },
   "file_extension": ".py",
   "mimetype": "text/x-python",
   "name": "python",
   "nbconvert_exporter": "python",
   "pygments_lexer": "ipython3",
   "version": "3.7.6"
  }
 },
 "nbformat": 4,
 "nbformat_minor": 4
}
